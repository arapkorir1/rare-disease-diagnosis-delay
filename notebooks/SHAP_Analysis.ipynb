{
 "cells": [
  {
   "cell_type": "code",
   "execution_count": null,
   "id": "8eaade25-976f-4eda-bb91-db2ec3688332",
   "metadata": {},
   "outputs": [],
   "source": [
    "import shap\n",
    "import joblib\n",
    "\n",
    "model = joblib.load('../models/delay_predictor.pkl')\n",
    "sample_data = pd.read_csv('../data/processed/analysis_ready.csv').sample(100)\n",
    "\n",
    "explainer = shap.TreeExplainer(model)\n",
    "shap_values = explainer.shap_values(sample_data)\n",
    "\n",
    "shap.summary_plot(shap_values, sample_data, \n",
    "                 feature_names=['Income','Poverty Rate','Income/Poverty Ratio'],\n",
    "                 plot_type='bar')\n",
    "plt.savefig('../assets/shap_summary.png')"
   ]
  }
 ],
 "metadata": {
  "kernelspec": {
   "display_name": "Python 3 (ipykernel)",
   "language": "python",
   "name": "python3"
  },
  "language_info": {
   "codemirror_mode": {
    "name": "ipython",
    "version": 3
   },
   "file_extension": ".py",
   "mimetype": "text/x-python",
   "name": "python",
   "nbconvert_exporter": "python",
   "pygments_lexer": "ipython3",
   "version": "3.11.2"
  }
 },
 "nbformat": 4,
 "nbformat_minor": 5
}
