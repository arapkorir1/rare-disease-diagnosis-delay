# notebooks/1_Generate_Data.ipynb
import pandas as pd
import numpy as np

# Simulate 500 patients
np.random.seed(42)  # For reproducibility
data = {
    'patient_id': np.arange(1, 501),
    'age': np.random.randint(18, 80, size=500),
    'zip_code': np.random.choice(['60601', '10001', '90001', '77001'], size=500),  # Chicago, NYC, LA, Houston
    'income': np.random.normal(50000, 15000, 500).astype(int),  # Normal distribution (mean=50k, std=15k)
    'education': np.random.choice(['High School', 'College', 'Graduate'], size=500, p=[0.4, 0.4, 0.2]),
    'diagnosis_delay_days': np.random.randint(30, 730, size=500)  # Delay between 1 month to 2 years
}

df = pd.DataFrame(data)
df.to_csv('../data/raw/synthetic_patients.csv', index=False)
